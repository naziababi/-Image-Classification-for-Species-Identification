{
 "cells": [
  {
   "cell_type": "code",
   "execution_count": 53,
   "id": "c7574037-af85-4481-a8f9-b639fcf11286",
   "metadata": {},
   "outputs": [],
   "source": [
    "import tensorflow as tf\n",
    "from tensorflow.keras import datasets, layers, models\n",
    "import matplotlib.pyplot as plt\n",
    "import numpy as np"
   ]
  },
  {
   "cell_type": "code",
   "execution_count": 55,
   "id": "7010fecf-931d-4cea-af53-fd9830f19a94",
   "metadata": {},
   "outputs": [
    {
     "data": {
      "text/plain": [
       "(50000, 32, 32, 3)"
      ]
     },
     "execution_count": 55,
     "metadata": {},
     "output_type": "execute_result"
    }
   ],
   "source": [
    "# Load the CIFAR-10 dataset\n",
    "\n",
    "(X_train, y_train), (X_test,y_test) = datasets.cifar10.load_data()\n",
    "X_train.shape"
   ]
  },
  {
   "cell_type": "code",
   "execution_count": 56,
   "id": "d76fcf73-6a29-4ad3-98b8-fd48e21f795a",
   "metadata": {},
   "outputs": [
    {
     "data": {
      "text/plain": [
       "(10000, 32, 32, 3)"
      ]
     },
     "execution_count": 56,
     "metadata": {},
     "output_type": "execute_result"
    }
   ],
   "source": [
    "# Print the shapes of the training and test sets\n",
    "\n",
    "X_test.shape"
   ]
  },
  {
   "cell_type": "code",
   "execution_count": 59,
   "id": "80650302-344c-4e0a-ad3a-8bcc52bfebf6",
   "metadata": {},
   "outputs": [
    {
     "data": {
      "text/plain": [
       "(50000, 1)"
      ]
     },
     "execution_count": 59,
     "metadata": {},
     "output_type": "execute_result"
    }
   ],
   "source": [
    "y_train.shape"
   ]
  },
  {
   "cell_type": "code",
   "execution_count": 61,
   "id": "db745cc4-cd69-4292-bc69-6f7e638c924e",
   "metadata": {},
   "outputs": [
    {
     "data": {
      "text/plain": [
       "array([[6],\n",
       "       [9],\n",
       "       [9],\n",
       "       [4],\n",
       "       [1]], dtype=uint8)"
      ]
     },
     "execution_count": 61,
     "metadata": {},
     "output_type": "execute_result"
    }
   ],
   "source": [
    "# Display the first 5 labels from the training set\n",
    "\n",
    "y_train[:5]"
   ]
  },
  {
   "cell_type": "code",
   "execution_count": 63,
   "id": "363d178f-f8bb-40c3-b6eb-e30271c01910",
   "metadata": {},
   "outputs": [
    {
     "data": {
      "text/plain": [
       "array([6, 9, 9, 4, 1], dtype=uint8)"
      ]
     },
     "execution_count": 63,
     "metadata": {},
     "output_type": "execute_result"
    }
   ],
   "source": [
    "# Reshape the labels from (n, 1) to (n,)\n",
    "\n",
    "y_train = y_train.reshape(-1,)\n",
    "y_train[:5]"
   ]
  },
  {
   "cell_type": "code",
   "execution_count": 65,
   "id": "e22a3efa-abde-470d-8cb2-ad16566d130f",
   "metadata": {},
   "outputs": [],
   "source": [
    "y_test = y_test.reshape(-1,)"
   ]
  },
  {
   "cell_type": "code",
   "execution_count": 67,
   "id": "d8737786-44bc-4120-a0df-26ac2f3c2bbb",
   "metadata": {},
   "outputs": [],
   "source": [
    "# Define the class names for CIFAR-10\n",
    "\n",
    "classes = [\"airplane\",\"automobile\",\"bird\",\"cat\",\"deer\",\"dog\",\"frog\",\"horse\",\"ship\",\"truck\"]"
   ]
  },
  {
   "cell_type": "code",
   "execution_count": 69,
   "id": "437ce7ed-1552-4a16-b95d-04a6d40cc5e7",
   "metadata": {},
   "outputs": [],
   "source": [
    "# Function to plot a sample image along with its label\n",
    "\n",
    "def plot_sample(X, y, index):\n",
    "    plt.figure(figsize = (15,2))\n",
    "    plt.imshow(X[index])\n",
    "    plt.xlabel(classes[y[index]])"
   ]
  },
  {
   "cell_type": "code",
   "execution_count": 71,
   "id": "6b36453b-b46c-489f-a563-a29666b436a4",
   "metadata": {},
   "outputs": [
    {
     "data": {
      "image/png": "[encoded data removed]",
      "text/plain": [
       "<Figure size 1500x200 with 1 Axes>"
      ]
     },
     "metadata": {},
     "output_type": "display_data"
    }
   ],
   "source": [
    "# Plot sample images from the training set\n",
    "\n",
    "plot_sample(X_train, y_train, 0)"
   ]
  },
  {
   "cell_type": "code",
   "execution_count": 73,
   "id": "123de290-5aff-480c-b4c3-2f008f5eb7c3",
   "metadata": {},
   "outputs": [
    {
     "data": {
      "image/png": "[encoded data removed]",
      "text/plain": [
       "<Figure size 1500x200 with 1 Axes>"
      ]
     },
     "metadata": {},
     "output_type": "display_data"
    }
   ],
   "source": [
    "plot_sample(X_train, y_train, 1)"
   ]
  },
  {
   "cell_type": "code",
   "execution_count": 75,
   "id": "033c55ff-8ebb-4bc9-b5fb-08d21f3736e9",
   "metadata": {},
   "outputs": [],
   "source": [
    "# Normalize the pixel values to be between 0 and 1\n",
    "\n",
    "X_train = X_train / 255.0\n",
    "X_test = X_test / 255.0"
   ]
  },
  {
   "cell_type": "code",
   "execution_count": 76,
   "id": "679f8e9d-e7f6-41e9-8d03-0745891da534",
   "metadata": {},
   "outputs": [
    {
     "name": "stderr",
     "output_type": "stream",
     "text": [
      "C:\\Users\\prala\\anaconda3\\Lib\\site-packages\\keras\\src\\layers\\reshaping\\flatten.py:37: UserWarning: Do not pass an `input_shape`/`input_dim` argument to a layer. When using Sequential models, prefer using an `Input(shape)` object as the first layer in the model instead.\n",
      "  super().__init__(**kwargs)\n"
     ]
    },
    {
     "name": "stdout",
     "output_type": "stream",
     "text": [
      "Epoch 1/5\n",
      "\u001b[1m1563/1563\u001b[0m \u001b[32m━━━━━━━━━━━━━━━━━━━━\u001b[0m\u001b[37m\u001b[0m \u001b[1m14s\u001b[0m 9ms/step - accuracy: 0.3063 - loss: 1.9315\n",
      "Epoch 2/5\n",
      "\u001b[1m1563/1563\u001b[0m \u001b[32m━━━━━━━━━━━━━━━━━━━━\u001b[0m\u001b[37m\u001b[0m \u001b[1m14s\u001b[0m 9ms/step - accuracy: 0.4197 - loss: 1.6375\n",
      "Epoch 3/5\n",
      "\u001b[1m1563/1563\u001b[0m \u001b[32m━━━━━━━━━━━━━━━━━━━━\u001b[0m\u001b[37m\u001b[0m \u001b[1m14s\u001b[0m 9ms/step - accuracy: 0.4533 - loss: 1.5517\n",
      "Epoch 4/5\n",
      "\u001b[1m1563/1563\u001b[0m \u001b[32m━━━━━━━━━━━━━━━━━━━━\u001b[0m\u001b[37m\u001b[0m \u001b[1m14s\u001b[0m 9ms/step - accuracy: 0.4736 - loss: 1.4861\n",
      "Epoch 5/5\n",
      "\u001b[1m1563/1563\u001b[0m \u001b[32m━━━━━━━━━━━━━━━━━━━━\u001b[0m\u001b[37m\u001b[0m \u001b[1m14s\u001b[0m 9ms/step - accuracy: 0.4931 - loss: 1.4385\n"
     ]
    },
    {
     "data": {
      "text/plain": [
       "<keras.src.callbacks.history.History at 0x1cd4427d3a0>"
      ]
     },
     "execution_count": 76,
     "metadata": {},
     "output_type": "execute_result"
    }
   ],
   "source": [
    "# Define a simple Artificial Neural Network (ANN) model\n",
    "\n",
    "ann = models.Sequential([\n",
    "        layers.Flatten(input_shape=(32,32,3)),          # Flatten the input\n",
    "        layers.Dense(3000, activation='relu'),          # First hidden layer\n",
    "        layers.Dense(1000, activation='relu'),          # Second hidden layer\n",
    "        layers.Dense(10, activation='softmax')          # Output layer\n",
    "    ])\n",
    "\n",
    "# Compile the ANN model\n",
    "ann.compile(optimizer='SGD',\n",
    "              loss='sparse_categorical_crossentropy',\n",
    "              metrics=['accuracy'])\n",
    "\n",
    "# Train the ANN model\n",
    "ann.fit(X_train, y_train, epochs=5)\n",
    "\n"
   ]
  },
  {
   "cell_type": "code",
   "execution_count": 78,
   "id": "8b3781af-099a-47b0-8185-6fd6efd81751",
   "metadata": {},
   "outputs": [
    {
     "name": "stdout",
     "output_type": "stream",
     "text": [
      "\u001b[1m313/313\u001b[0m \u001b[32m━━━━━━━━━━━━━━━━━━━━\u001b[0m\u001b[37m\u001b[0m \u001b[1m1s\u001b[0m 3ms/step\n",
      "Classification Report: \n",
      "               precision    recall  f1-score   support\n",
      "\n",
      "           0       0.56      0.45      0.50      1000\n",
      "           1       0.52      0.69      0.59      1000\n",
      "           2       0.43      0.21      0.29      1000\n",
      "           3       0.33      0.29      0.31      1000\n",
      "           4       0.55      0.28      0.37      1000\n",
      "           5       0.39      0.38      0.39      1000\n",
      "           6       0.42      0.70      0.53      1000\n",
      "           7       0.66      0.44      0.53      1000\n",
      "           8       0.42      0.80      0.55      1000\n",
      "           9       0.55      0.42      0.48      1000\n",
      "\n",
      "    accuracy                           0.47     10000\n",
      "   macro avg       0.48      0.47      0.45     10000\n",
      "weighted avg       0.48      0.47      0.45     10000\n",
      "\n"
     ]
    }
   ],
   "source": [
    "from sklearn.metrics import confusion_matrix , classification_report\n",
    "import numpy as np\n",
    "\n",
    "# Predict the classes of the test set\n",
    "y_pred = ann.predict(X_test)\n",
    "y_pred_classes = [np.argmax(element) for element in y_pred]\n",
    "\n",
    "# Print the classification report\n",
    "print(\"Classification Report: \\n\", classification_report(y_test, y_pred_classes))"
   ]
  },
  {
   "cell_type": "code",
   "execution_count": 79,
   "id": "45a89387-950f-4127-9fe0-2f1aabef043e",
   "metadata": {},
   "outputs": [
    {
     "name": "stderr",
     "output_type": "stream",
     "text": [
      "C:\\Users\\prala\\anaconda3\\Lib\\site-packages\\keras\\src\\layers\\convolutional\\base_conv.py:107: UserWarning: Do not pass an `input_shape`/`input_dim` argument to a layer. When using Sequential models, prefer using an `Input(shape)` object as the first layer in the model instead.\n",
      "  super().__init__(activity_regularizer=activity_regularizer, **kwargs)\n"
     ]
    }
   ],
   "source": [
    "# Define a Convolutional Neural Network (CNN) model\n",
    "\n",
    "cnn = models.Sequential([\n",
    "    layers.Conv2D(filters=32, kernel_size=(3, 3), activation='relu', input_shape=(32, 32, 3)),\n",
    "    layers.MaxPooling2D((2, 2)),\n",
    "    \n",
    "    layers.Conv2D(filters=64, kernel_size=(3, 3), activation='relu'),\n",
    "    layers.MaxPooling2D((2, 2)),\n",
    "    \n",
    "    layers.Flatten(),\n",
    "    layers.Dense(64, activation='relu'),\n",
    "    layers.Dense(10, activation='softmax')\n",
    "])"
   ]
  },
  {
   "cell_type": "code",
   "execution_count": 80,
   "id": "f6101028-22c5-4eef-a1ec-2906f8f58a28",
   "metadata": {},
   "outputs": [],
   "source": [
    "# Compile the CNN model\n",
    "\n",
    "cnn.compile(optimizer='adam',\n",
    "              loss='sparse_categorical_crossentropy',\n",
    "              metrics=['accuracy'])"
   ]
  },
  {
   "cell_type": "code",
   "execution_count": 81,
   "id": "bb552904-df80-45b4-8474-882918688ed0",
   "metadata": {},
   "outputs": [
    {
     "name": "stdout",
     "output_type": "stream",
     "text": [
      "Epoch 1/10\n",
      "\u001b[1m1563/1563\u001b[0m \u001b[32m━━━━━━━━━━━━━━━━━━━━\u001b[0m\u001b[37m\u001b[0m \u001b[1m6s\u001b[0m 3ms/step - accuracy: 0.3692 - loss: 1.7229\n",
      "Epoch 2/10\n",
      "\u001b[1m1563/1563\u001b[0m \u001b[32m━━━━━━━━━━━━━━━━━━━━\u001b[0m\u001b[37m\u001b[0m \u001b[1m5s\u001b[0m 3ms/step - accuracy: 0.5939 - loss: 1.1560\n",
      "Epoch 3/10\n",
      "\u001b[1m1563/1563\u001b[0m \u001b[32m━━━━━━━━━━━━━━━━━━━━\u001b[0m\u001b[37m\u001b[0m \u001b[1m5s\u001b[0m 3ms/step - accuracy: 0.6477 - loss: 1.0137\n",
      "Epoch 4/10\n",
      "\u001b[1m1563/1563\u001b[0m \u001b[32m━━━━━━━━━━━━━━━━━━━━\u001b[0m\u001b[37m\u001b[0m \u001b[1m5s\u001b[0m 3ms/step - accuracy: 0.6855 - loss: 0.9087\n",
      "Epoch 5/10\n",
      "\u001b[1m1563/1563\u001b[0m \u001b[32m━━━━━━━━━━━━━━━━━━━━\u001b[0m\u001b[37m\u001b[0m \u001b[1m5s\u001b[0m 3ms/step - accuracy: 0.7099 - loss: 0.8417\n",
      "Epoch 6/10\n",
      "\u001b[1m1563/1563\u001b[0m \u001b[32m━━━━━━━━━━━━━━━━━━━━\u001b[0m\u001b[37m\u001b[0m \u001b[1m5s\u001b[0m 3ms/step - accuracy: 0.7322 - loss: 0.7748\n",
      "Epoch 7/10\n",
      "\u001b[1m1563/1563\u001b[0m \u001b[32m━━━━━━━━━━━━━━━━━━━━\u001b[0m\u001b[37m\u001b[0m \u001b[1m5s\u001b[0m 3ms/step - accuracy: 0.7482 - loss: 0.7262\n",
      "Epoch 8/10\n",
      "\u001b[1m1563/1563\u001b[0m \u001b[32m━━━━━━━━━━━━━━━━━━━━\u001b[0m\u001b[37m\u001b[0m \u001b[1m5s\u001b[0m 3ms/step - accuracy: 0.7624 - loss: 0.6805\n",
      "Epoch 9/10\n",
      "\u001b[1m1563/1563\u001b[0m \u001b[32m━━━━━━━━━━━━━━━━━━━━\u001b[0m\u001b[37m\u001b[0m \u001b[1m5s\u001b[0m 3ms/step - accuracy: 0.7797 - loss: 0.6399\n",
      "Epoch 10/10\n",
      "\u001b[1m1563/1563\u001b[0m \u001b[32m━━━━━━━━━━━━━━━━━━━━\u001b[0m\u001b[37m\u001b[0m \u001b[1m5s\u001b[0m 3ms/step - accuracy: 0.7895 - loss: 0.5984\n"
     ]
    },
    {
     "data": {
      "text/plain": [
       "<keras.src.callbacks.history.History at 0x1cd4753d790>"
      ]
     },
     "execution_count": 81,
     "metadata": {},
     "output_type": "execute_result"
    }
   ],
   "source": [
    "# Train the CNN model\n",
    "\n",
    "cnn.fit(X_train, y_train, epochs=10)"
   ]
  },
  {
   "cell_type": "code",
   "execution_count": 110,
   "id": "0d298db9-a03d-4d30-a4d2-27cbdcac891a",
   "metadata": {},
   "outputs": [
    {
     "name": "stdout",
     "output_type": "stream",
     "text": [
      "\u001b[1m313/313\u001b[0m \u001b[32m━━━━━━━━━━━━━━━━━━━━\u001b[0m\u001b[37m\u001b[0m \u001b[1m0s\u001b[0m 2ms/step - accuracy: 0.7101 - loss: 0.9026\n"
     ]
    },
    {
     "data": {
      "text/plain": [
       "[0.9225150346755981, 0.7032999992370605]"
      ]
     },
     "execution_count": 110,
     "metadata": {},
     "output_type": "execute_result"
    }
   ],
   "source": [
    "# Evaluate the CNN model on the test set\n",
    "\n",
    "cnn.evaluate(X_test,y_test)\n"
   ]
  },
  {
   "cell_type": "code",
   "execution_count": 112,
   "id": "cb1933ea-ad2e-4668-951c-1c82f58bc841",
   "metadata": {},
   "outputs": [
    {
     "name": "stdout",
     "output_type": "stream",
     "text": [
      "\u001b[1m313/313\u001b[0m \u001b[32m━━━━━━━━━━━━━━━━━━━━\u001b[0m\u001b[37m\u001b[0m \u001b[1m1s\u001b[0m 3ms/step - accuracy: 0.4753 - loss: 1.4776\n"
     ]
    },
    {
     "data": {
      "text/plain": [
       "[1.480277419090271, 0.4672999978065491]"
      ]
     },
     "execution_count": 112,
     "metadata": {},
     "output_type": "execute_result"
    }
   ],
   "source": [
    "# Evaluate the ANN model on the test set\n",
    "\n",
    "ann.evaluate(X_test,y_test)"
   ]
  },
  {
   "cell_type": "code",
   "execution_count": 114,
   "id": "231a2e8e-e2e7-467b-aa80-2cd93dbfa7be",
   "metadata": {},
   "outputs": [
    {
     "name": "stdout",
     "output_type": "stream",
     "text": [
      "\u001b[1m313/313\u001b[0m \u001b[32m━━━━━━━━━━━━━━━━━━━━\u001b[0m\u001b[37m\u001b[0m \u001b[1m1s\u001b[0m 2ms/step\n"
     ]
    },
    {
     "data": {
      "text/plain": [
       "array([[3.17971921e-04, 1.01666337e-04, 8.31548183e-04, 5.96109331e-01,\n",
       "        9.64264691e-05, 5.24177589e-02, 2.59289086e-01, 1.59455303e-04,\n",
       "        9.04402137e-02, 2.36504085e-04],\n",
       "       [4.82409634e-02, 2.47687668e-01, 5.81082077e-06, 5.78781894e-08,\n",
       "        2.13814322e-09, 1.88869897e-08, 1.24686164e-08, 3.30685097e-08,\n",
       "        6.98382437e-01, 5.68298995e-03],\n",
       "       [1.12069525e-01, 3.65858287e-01, 2.48518563e-03, 2.13758531e-03,\n",
       "        5.20363625e-04, 1.10699097e-03, 1.27406252e-04, 2.72810739e-03,\n",
       "        4.42955166e-01, 7.00113848e-02],\n",
       "       [4.95437086e-01, 7.60329142e-02, 2.56187152e-02, 3.22504179e-03,\n",
       "        9.57080978e-04, 2.02868305e-05, 6.86346248e-05, 2.16819299e-05,\n",
       "        3.97643328e-01, 9.75310104e-04],\n",
       "       [2.18846182e-07, 5.60748367e-06, 8.83836648e-04, 1.14211561e-02,\n",
       "        9.26540554e-01, 5.93525940e-04, 6.05349056e-02, 1.54371846e-05,\n",
       "        3.28357419e-06, 1.50735661e-06]], dtype=float32)"
      ]
     },
     "execution_count": 114,
     "metadata": {},
     "output_type": "execute_result"
    }
   ],
   "source": [
    "# Predict the classes of the test set\n",
    "\n",
    "y_pred = cnn.predict(X_test)\n",
    "\n",
    "# Display the first 5 predictions\n",
    "y_pred[:5]"
   ]
  },
  {
   "cell_type": "code",
   "execution_count": 115,
   "id": "959a7ddb-9ef1-43be-b169-d562966fa4a8",
   "metadata": {},
   "outputs": [],
   "source": [
    "# Convert the predictions to class labels\n",
    "\n",
    "y_classes = [np.argmax(element) for element in y_pred]\n",
    "\n"
   ]
  },
  {
   "cell_type": "code",
   "execution_count": 118,
   "id": "f33e440c-8f0c-4556-9142-a23eac268091",
   "metadata": {},
   "outputs": [
    {
     "data": {
      "text/plain": [
       "array([3, 8, 8, 0, 6], dtype=uint8)"
      ]
     },
     "execution_count": 118,
     "metadata": {},
     "output_type": "execute_result"
    }
   ],
   "source": [
    "# Display the first 5 true labels\n",
    "\n",
    "y_test[:5]"
   ]
  },
  {
   "cell_type": "code",
   "execution_count": 96,
   "id": "a45e694c-4ef5-40a9-8bbd-78a3fc8d7986",
   "metadata": {},
   "outputs": [
    {
     "data": {
      "image/png": "[encoded data removed]",
      "text/plain": [
       "<Figure size 1500x200 with 1 Axes>"
      ]
     },
     "metadata": {},
     "output_type": "display_data"
    }
   ],
   "source": [
    "# Plot a sample image from the test set with its predicted label\n",
    "\n",
    "plot_sample(X_test, y_test,6)"
   ]
  },
  {
   "cell_type": "code",
   "execution_count": 98,
   "id": "a118da86-2090-43ff-9304-2ccf84ad83df",
   "metadata": {},
   "outputs": [
    {
     "data": {
      "text/plain": [
       "'automobile'"
      ]
     },
     "execution_count": 98,
     "metadata": {},
     "output_type": "execute_result"
    }
   ],
   "source": [
    "\n",
    "classes[y_classes[6]]"
   ]
  },
  {
   "cell_type": "code",
   "execution_count": 100,
   "id": "bf749cb3-81c3-4f3f-9226-ef11274ea5b9",
   "metadata": {},
   "outputs": [
    {
     "data": {
      "text/plain": [
       "'airplane'"
      ]
     },
     "execution_count": 100,
     "metadata": {},
     "output_type": "execute_result"
    }
   ],
   "source": [
    "\n",
    "classes[y_classes[3]]"
   ]
  },
  {
   "cell_type": "code",
   "execution_count": 120,
   "id": "2e1fd318-fab5-49f3-a40f-05d9ceea0db1",
   "metadata": {},
   "outputs": [
    {
     "name": "stdout",
     "output_type": "stream",
     "text": [
      "ANN Classification Report: \n",
      "               precision    recall  f1-score   support\n",
      "\n",
      "    airplane       0.56      0.45      0.50      1000\n",
      "  automobile       0.52      0.69      0.59      1000\n",
      "        bird       0.43      0.21      0.29      1000\n",
      "         cat       0.33      0.29      0.31      1000\n",
      "        deer       0.55      0.28      0.37      1000\n",
      "         dog       0.39      0.38      0.39      1000\n",
      "        frog       0.42      0.70      0.53      1000\n",
      "       horse       0.66      0.44      0.53      1000\n",
      "        ship       0.42      0.80      0.55      1000\n",
      "       truck       0.55      0.42      0.48      1000\n",
      "\n",
      "    accuracy                           0.47     10000\n",
      "   macro avg       0.48      0.47      0.45     10000\n",
      "weighted avg       0.48      0.47      0.45     10000\n",
      "\n"
     ]
    }
   ],
   "source": [
    " from sklearn.metrics import classification_report\n",
    "\n",
    "print(\"ANN Classification Report: \\n\", classification_report(y_test, y_pred_classes, target_names=classes))\n"
   ]
  },
  {
   "cell_type": "code",
   "execution_count": 122,
   "id": "75361e9a-2bee-4151-8078-16db56e1875b",
   "metadata": {},
   "outputs": [
    {
     "name": "stdout",
     "output_type": "stream",
     "text": [
      "CNN Classification Report: \n",
      "               precision    recall  f1-score   support\n",
      "\n",
      "    airplane       0.74      0.75      0.74      1000\n",
      "  automobile       0.79      0.83      0.81      1000\n",
      "        bird       0.63      0.56      0.59      1000\n",
      "         cat       0.57      0.48      0.52      1000\n",
      "        deer       0.59      0.73      0.65      1000\n",
      "         dog       0.58      0.67      0.62      1000\n",
      "        frog       0.78      0.77      0.78      1000\n",
      "       horse       0.74      0.75      0.75      1000\n",
      "        ship       0.88      0.71      0.79      1000\n",
      "       truck       0.77      0.79      0.78      1000\n",
      "\n",
      "    accuracy                           0.70     10000\n",
      "   macro avg       0.71      0.70      0.70     10000\n",
      "weighted avg       0.71      0.70      0.70     10000\n",
      "\n"
     ]
    }
   ],
   "source": [
    "print(\"CNN Classification Report: \\n\", classification_report(y_test, y_classes, target_names=classes))\n"
   ]
  },
  {
   "cell_type": "code",
   "execution_count": null,
   "id": "cbc6f6a6-0904-4b2c-a321-911a3b29deda",
   "metadata": {},
   "outputs": [],
   "source": []
  }
 ],
 "metadata": {
  "kernelspec": {
   "display_name": "Python 3 (ipykernel)",
   "language": "python",
   "name": "python3"
  },
  "language_info": {
   "codemirror_mode": {
    "name": "ipython",
    "version": 3
   },
   "file_extension": ".py",
   "mimetype": "text/x-python",
   "name": "python",
   "nbconvert_exporter": "python",
   "pygments_lexer": "ipython3",
   "version": "3.12.4"
  }
 },
 "nbformat": 4,
 "nbformat_minor": 5
}
